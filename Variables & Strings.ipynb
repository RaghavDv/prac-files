{
 "cells": [
  {
   "cell_type": "code",
   "execution_count": 47,
   "metadata": {
    "collapsed": true
   },
   "outputs": [
    {
     "name": "stdout",
     "output_type": "stream",
     "text": [
      "Press run to debug the code\n"
     ]
    }
   ],
   "source": [
    "print (\"Press run to debug the code\")"
   ]
  },
  {
   "cell_type": "code",
   "execution_count": 49,
   "metadata": {
    "scrolled": false
   },
   "outputs": [
    {
     "name": "stdout",
     "output_type": "stream",
     "text": [
      "hold shift + enter to run the code\n"
     ]
    }
   ],
   "source": [
    "print (\"hold shift + enter to run the code\")"
   ]
  },
  {
   "cell_type": "code",
   "execution_count": 56,
   "metadata": {
    "collapsed": true
   },
   "outputs": [
    {
     "name": "stdout",
     "output_type": "stream",
     "text": [
      "Hold CTRL + Left click mouse for muti cursor\n",
      "Hold CTRL + Left click mouse for muti cursor\n",
      "Hold CTRL + Left click mouse for muti cursor\n",
      "Hold CTRL + Left click mouse for muti cursor\n",
      "Hold CTRL + Left click mouse for muti cursor\n"
     ]
    }
   ],
   "source": [
    "print (\"Hold CTRL + Left click mouse for muti cursor\")\n",
    "print (\"Hold CTRL + Left click mouse for muti cursor\")\n",
    "print (\"Hold CTRL + Left click mouse for muti cursor\")\n",
    "print (\"Hold CTRL + Left click mouse for muti cursor\")\n",
    "print (\"Hold CTRL + Left click mouse for muti cursor\")\n",
    "\n",
    "# This is a comment\n",
    "\n"
   ]
  },
  {
   "cell_type": "code",
   "execution_count": 54,
   "metadata": {
    "collapsed": true
   },
   "outputs": [
    {
     "name": "stdout",
     "output_type": "stream",
     "text": [
      "Hold CTRL + Left click mouse for muti cursor\n",
      "Hold CTRL + Left click mouse for muti cursor\n",
      "Hold CTRL + Left click mouse for muti cursor\n",
      "Hold CTRL + Left click mouse for muti cursor\n",
      "Hold CTRL + Left click mouse for muti cursor\n",
      "Just another test\n"
     ]
    }
   ],
   "source": [
    "print (\"Hold CTRL + Left click mouse for muti cursor\")\n",
    "print (\"Hold CTRL + Left click mouse for muti cursor\")\n",
    "print (\"Hold CTRL + Left click mouse for muti cursor\")\n",
    "print (\"Hold CTRL + Left click mouse for muti cursor\")\n",
    "print (\"Hold CTRL + Left click mouse for muti cursor\")\n",
    "print (\"Just another test\")"
   ]
  },
  {
   "cell_type": "code",
   "execution_count": 58,
   "metadata": {
    "collapsed": true
   },
   "outputs": [
    {
     "name": "stdout",
     "output_type": "stream",
     "text": [
      "8.0\n",
      "8\n",
      "0\n",
      "0\n"
     ]
    }
   ],
   "source": [
    "# Mathematical Operators\n",
    "\n",
    "# Division                     / \n",
    "# Floor Division              //\n",
    "# Modulos                       %\n",
    "# Integer                     int (number)\n",
    "# Float                       float(number)\n",
    "\n",
    "x = 5\n",
    "print(40/x)\n",
    "print(40//x)\n",
    "print(40%x)\n",
    "print(40 - (8*x))"
   ]
  },
  {
   "cell_type": "code",
   "execution_count": 1,
   "metadata": {},
   "outputs": [
    {
     "name": "stdout",
     "output_type": "stream",
     "text": [
      "Hello I am brad and i am 27\n",
      "brad, 27, student\n",
      "27, student, brad\n",
      "Hi My name is chance and i am 25\n",
      "Hello my name is saskia and i am 23\n",
      "Hey my name is brad and I am 27\n",
      "Hello there world\n",
      "HELLO THERE WORLD\n",
      "hello there world\n",
      "HELLO tHERE WORLD\n",
      "17\n",
      "hello There everyone\n",
      "2\n",
      "True\n",
      "False\n",
      "['hello', 'There', 'world']\n",
      "Substring 'is fun': 19\n",
      "Hello John Doe. Your current balance is 53.44\n"
     ]
    }
   ],
   "source": [
    "###Casting\n",
    "\n",
    "# x, y, name, is_cool = (1, 2.5, \"Brad\", True)\n",
    "\n",
    "# print (x, y, name, is_cool)\n",
    "# print (type(x))  # different ways to print the Type\n",
    "# type (x) # different ways to print the Type\n",
    "\n",
    "# x_float = float(x) #Storing in a seperate variable\n",
    "# print(type(x_float))\n",
    "# type (x_float)    #In Out only shows the last value & only in last line\n",
    "\n",
    "# y = int(y)\n",
    "# print(type(y))\n",
    "# print(y)\n",
    "# type(y)       #In Out only shows the last value & only in last line\n",
    "\n",
    "# print (type (name))\n",
    "# z = bool(name)\n",
    "# print(type(z))\n",
    "# type(z)\n",
    "# print(name)\n",
    "\n",
    "name = 'brad'\n",
    "age = 27\n",
    "\n",
    "###Concantenate\n",
    "print ('Hello I am ' + name +  ' and i am ' + str(age))\n",
    "\n",
    "#Arguments by position\n",
    "print ('{}, {}, {}'.format(name, age, 'student'))\n",
    "print ('{1}, {2}, {0}'.format (name, age, 'student')) #(0 , 1, 2, 3, 4, 5)\n",
    "\n",
    "#Arguments by name\n",
    "print ('Hi My name is {name} and i am {age}'.format (name='chance', age=25))\n",
    "print ('Hello my name is {name} and i am {age}'.format (name='saskia', age=23))\n",
    "\n",
    "#F String (Only in 3.6+)\n",
    "print(f'Hey my name is {name} and I am {age}' )\n",
    "\n",
    "\n",
    "###String Methods\n",
    "\n",
    "s = 'hello There world'\n",
    "\n",
    "#capitalize first letter\n",
    "print(s.capitalize())\n",
    "\n",
    "#make all upper\n",
    "print(s.upper())\n",
    "\n",
    "#make all Lower\n",
    "print(s.lower())\n",
    "\n",
    "#swap case\n",
    "print(s.swapcase())\n",
    "\n",
    "#Get length function or method\n",
    "print(len(s))\n",
    "\n",
    "#Replace\n",
    "print(s.replace ('world', 'everyone'))\n",
    "\n",
    "#count\n",
    "sub = \"h\"\n",
    "print(s.count(sub))\n",
    "\n",
    "#startswith\n",
    "print(s.startswith('hello'))\n",
    "\n",
    "#endswith\n",
    "print(s.endswith('test'))\n",
    "\n",
    "#split into a array\n",
    "print(s.split())\n",
    "\n",
    "sentence = 'Python programming is fun.'\n",
    "result = sentence.index('is fun')\n",
    "print(\"Substring 'is fun':\", result)\n",
    "\n",
    "print ('Hello {name} Your current balance is {balance}'.format(name= 'John Doe.', balance= 53.44) )\n",
    "      "
   ]
  },
  {
   "cell_type": "code",
   "execution_count": null,
   "metadata": {},
   "outputs": [],
   "source": []
  },
  {
   "cell_type": "code",
   "execution_count": 1,
   "metadata": {},
   "outputs": [
    {
     "name": "stdout",
     "output_type": "stream",
     "text": [
      "Hello I'm John from the chruch\n"
     ]
    }
   ],
   "source": [
    "print(\"Hello I'm John from the chruch\")"
   ]
  },
  {
   "cell_type": "code",
   "execution_count": 4,
   "metadata": {},
   "outputs": [
    {
     "name": "stdout",
     "output_type": "stream",
     "text": [
      "I am john \n",
      "and i work at the chruch\n"
     ]
    }
   ],
   "source": [
    "print ('I am john \\nand i work at the chruch')"
   ]
  },
  {
   "cell_type": "code",
   "execution_count": 5,
   "metadata": {},
   "outputs": [
    {
     "name": "stdout",
     "output_type": "stream",
     "text": [
      "Hello I'm John doe. \t I work at the church\n"
     ]
    }
   ],
   "source": [
    "print (\"Hello I'm John doe. \\t I work at the church\")"
   ]
  },
  {
   "cell_type": "code",
   "execution_count": 11,
   "metadata": {},
   "outputs": [
    {
     "name": "stdout",
     "output_type": "stream",
     "text": [
      "40\n"
     ]
    }
   ],
   "source": [
    "print(len(\"Hello I'm John doe. I work at the church\"))"
   ]
  },
  {
   "cell_type": "code",
   "execution_count": 14,
   "metadata": {},
   "outputs": [
    {
     "name": "stdout",
     "output_type": "stream",
     "text": [
      "brad, 27, student\n"
     ]
    },
    {
     "ename": "KeyError",
     "evalue": "'-1'",
     "output_type": "error",
     "traceback": [
      "\u001b[1;31m---------------------------------------------------------------------------\u001b[0m",
      "\u001b[1;31mKeyError\u001b[0m                                  Traceback (most recent call last)",
      "\u001b[1;32m<ipython-input-14-715081676ea0>\u001b[0m in \u001b[0;36m<module>\u001b[1;34m()\u001b[0m\n\u001b[0;32m      4\u001b[0m \u001b[1;31m#Arguments by position\u001b[0m\u001b[1;33m\u001b[0m\u001b[1;33m\u001b[0m\u001b[0m\n\u001b[0;32m      5\u001b[0m \u001b[0mprint\u001b[0m \u001b[1;33m(\u001b[0m\u001b[1;34m'{}, {}, {}'\u001b[0m\u001b[1;33m.\u001b[0m\u001b[0mformat\u001b[0m\u001b[1;33m(\u001b[0m\u001b[0mname\u001b[0m\u001b[1;33m,\u001b[0m \u001b[0mage\u001b[0m\u001b[1;33m,\u001b[0m \u001b[1;34m'student'\u001b[0m\u001b[1;33m)\u001b[0m\u001b[1;33m)\u001b[0m\u001b[1;33m\u001b[0m\u001b[0m\n\u001b[1;32m----> 6\u001b[1;33m \u001b[0mprint\u001b[0m \u001b[1;33m(\u001b[0m\u001b[1;34m'{1}, {2}, {-1}'\u001b[0m\u001b[1;33m.\u001b[0m\u001b[0mformat\u001b[0m \u001b[1;33m(\u001b[0m\u001b[0mname\u001b[0m\u001b[1;33m,\u001b[0m \u001b[0mage\u001b[0m\u001b[1;33m,\u001b[0m \u001b[1;34m'student'\u001b[0m\u001b[1;33m)\u001b[0m\u001b[1;33m)\u001b[0m \u001b[1;31m#(0 , 1, 2, 3, 4, 5)\u001b[0m\u001b[1;33m\u001b[0m\u001b[0m\n\u001b[0m",
      "\u001b[1;31mKeyError\u001b[0m: '-1'"
     ]
    }
   ],
   "source": [
    "name = 'brad'\n",
    "age = 27\n",
    "\n",
    "#Arguments by position\n",
    "print ('{}, {}, {}'.format(name, age, 'student'))\n",
    "print ('{1}, {2}, {0}'.format (name, age, 'student')) #(0 , 1, 2, 3, 4, 5)"
   ]
  },
  {
   "cell_type": "code",
   "execution_count": 19,
   "metadata": {},
   "outputs": [
    {
     "name": "stdout",
     "output_type": "stream",
     "text": [
      "k\n",
      "h\n",
      "a\n"
     ]
    }
   ],
   "source": [
    "# Indexing\n",
    "channel_1 = 'Sky sabah'\n",
    "print(channel_1[1])\n",
    "print(channel_1[-1])\n",
    "print(channel_1[-2])"
   ]
  },
  {
   "cell_type": "code",
   "execution_count": 36,
   "metadata": {},
   "outputs": [
    {
     "name": "stdout",
     "output_type": "stream",
     "text": [
      "_sabah_india\n",
      "Sky_sabah\n",
      "_sabah_\n",
      "Sky_sabah_india\n",
      "Sysbhida\n",
      "S_b_d\n",
      "k_\n",
      "aidni_habas_ykS\n"
     ]
    }
   ],
   "source": [
    "# Slicing\n",
    "channel_2 = 'Sky_sabah_india'\n",
    "print(channel_2[3:])\n",
    "print(channel_2[:9])\n",
    "print(channel_2[3:10])\n",
    "print(channel_2[::])      # Step Size\n",
    "print(channel_2[::2])\n",
    "print(channel_2[::3])\n",
    "print(channel_2[1:5:2]) # Start, Stop & a : step size\n",
    "print(channel_2[::-1])"
   ]
  },
  {
   "cell_type": "code",
   "execution_count": null,
   "metadata": {},
   "outputs": [],
   "source": []
  }
 ],
 "metadata": {
  "kernelspec": {
   "display_name": "Python 3",
   "language": "python",
   "name": "python3"
  },
  "language_info": {
   "codemirror_mode": {
    "name": "ipython",
    "version": 3
   },
   "file_extension": ".py",
   "mimetype": "text/x-python",
   "name": "python",
   "nbconvert_exporter": "python",
   "pygments_lexer": "ipython3",
   "version": "3.7.0"
  }
 },
 "nbformat": 4,
 "nbformat_minor": 2
}
