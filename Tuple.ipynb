{
 "cells": [
  {
   "cell_type": "code",
   "execution_count": 15,
   "metadata": {},
   "outputs": [
    {
     "name": "stdout",
     "output_type": "stream",
     "text": [
      "('Apples', 'Mangoes', 'Grapes')\n",
      "('Apples', 'Mangoes', 'Grapes', 'Strawberries')\n",
      "Mangoes\n",
      "('Dell',)\n",
      "3\n"
     ]
    }
   ],
   "source": [
    "# A Tuple is a collection which is ordered and unchangable. Allows duplicate members\n",
    "\n",
    "# Simple Tuple\n",
    "fruits_tuple = ('Apples', 'Mangoes', 'Grapes')\n",
    "print(fruits_tuple)\n",
    "\n",
    "# using a constructor\n",
    "fruits_tuple2 = tuple(('Apples', 'Mangoes', 'Grapes', 'Strawberries'))\n",
    "print(fruits_tuple2)\n",
    "\n",
    "# Get Single value\n",
    "print(fruits_tuple[1])\n",
    "\n",
    "# Can not change\n",
    "# fruits_tuple[1] = ('test')\n",
    "\n",
    "# Tuples with one value should have trailing comma\n",
    "single_tuple = ('Dell',)\n",
    "# del single_tuple\n",
    "print(single_tuple)\n",
    "\n",
    "# Get length\n",
    "print(len(fruits_tuple))"
   ]
  },
  {
   "cell_type": "code",
   "execution_count": null,
   "metadata": {},
   "outputs": [],
   "source": []
  }
 ],
 "metadata": {
  "kernelspec": {
   "display_name": "Python 3",
   "language": "python",
   "name": "python3"
  },
  "language_info": {
   "codemirror_mode": {
    "name": "ipython",
    "version": 3
   },
   "file_extension": ".py",
   "mimetype": "text/x-python",
   "name": "python",
   "nbconvert_exporter": "python",
   "pygments_lexer": "ipython3",
   "version": "3.7.0"
  }
 },
 "nbformat": 4,
 "nbformat_minor": 2
}
